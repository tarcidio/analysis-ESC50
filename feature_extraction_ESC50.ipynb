{
  "cells": [
    {
      "cell_type": "markdown",
      "metadata": {
        "id": "fYL3BmA1NSH-"
      },
      "source": [
        "**Resumo: Extração de *Features* de dados de áudio da ESC50**\n",
        "\n",
        "---\n",
        "\n",
        "Nesse documento, se encontram as *features* extraídas de um conhecido conjunto de áudio chamado ESC50. O dataset pode ser encontrado no [github karolpiczak](https://github.com/karolpiczak/ESC-50)\n",
        "\n",
        "A maioria das *features* selecionadas é proveniente do spectrograma de cada\n",
        "exemplo do conjunto de dados utilizado.\n",
        "\n",
        "Devido à natureza dos dados, acredito que seja possível extrair *features*\n",
        "relacionadas com séries temporais. Inicialmente, utilizarei os métodos usados neste [repositório.](https://github.com/karolpiczak/ESC-50)"
      ]
    },
    {
      "cell_type": "markdown",
      "metadata": {},
      "source": [
        "**Início da construção do DataFrame**\n",
        "* Esquema desejado: `{filename, fold, target, category, esc10, src_file, take}`\n",
        "\n",
        "esse markdown vai para a funnção que cria o esquema"
      ]
    },
    {
      "cell_type": "markdown",
      "metadata": {
        "id": "uLPicQRONq69"
      },
      "source": [
        "# Importando bibliotecas"
      ]
    },
    {
      "cell_type": "code",
      "execution_count": 78,
      "metadata": {
        "id": "ZaCP1RikNnCm"
      },
      "outputs": [],
      "source": [
        "from datetime import datetime\n",
        "import librosa\n",
        "import librosa.display\n",
        "import multiprocessing as mp\n",
        "import numpy as np\n",
        "import os\n",
        "import pandas as pd\n",
        "import re\n",
        "from scipy.signal import butter, filtfilt\n",
        "import warnings\n",
        "\n",
        "import sys\n",
        "sys.path.append('./python-som/')\n",
        "\n",
        "#Fazer um markdown só para o padrão\n",
        "#Criação de um padrão através de ReGex\n",
        "#ER: [TUDO][GDIGITO]_[G6DIGITOS]-[GCARACTER]-[G2DIGITOS][TUDO][END OF STRING]\n",
        "#groups()[0]:[GDIGITO]    --> FOLD\n",
        "#groups()[1]:[G6DIGITOS]  --> CLID_ID\n",
        "#groups()[2]:[GCARACTER]  --> TAKE\n",
        "#groups()[3]:[G2DIGITOS]  --> TARGET\n",
        "PATTERN: str = (r\"^.*(\\d)-(\\d{1,6})-([A-Z])-(\\d{1,2}).*$\")"
      ]
    },
    {
      "cell_type": "markdown",
      "metadata": {},
      "source": [
        "**Padrão elaborando usando Expressão Regular (ER):**\n",
        "* Expressão Regular: `r\"^.*(\\d)-(\\d{1,6})-([A-Z])-(\\d{1,2})\\.wav$\"`\n",
        "  * Exemplo de string que dá match com a ER: `\"5-263902-A-36\"`\n",
        "* Grupos da expressão regular:\n",
        "  * `groups()[0]`: grupo de um digito, representando `{FOLD}`\n",
        "  * `groups()[1]`: grupo de seis digito, representando `{CLID_ID}`\n",
        "  * `groups()[2]`: grupo de uma palavra, representando `{TAKE}`\n",
        "  * `groups()[3]`: grupo de dois digito, representando `{TARGET}`\n",
        "* Para entender melhor, acessar [regexr](https://regexr.com/) ou [regex101](https://regex101.com/)"
      ]
    },
    {
      "cell_type": "markdown",
      "metadata": {
        "id": "M8fea7ECNpdF"
      },
      "source": [
        "# Definição de funções"
      ]
    },
    {
      "cell_type": "markdown",
      "metadata": {
        "id": "Mf3NEVMLN0X3"
      },
      "source": [
        "## ```extract_data_from_filename (fpath: str) -> list```\n",
        "\n",
        "\n",
        "- `extract_data_from_filename`: dado o nome bruto do arquivo de áudio, separa\n",
        "as informações em datatime (com data e horário), nome bruto do arquivo, ala e\n",
        "grupo\n",
        "- Parâmetros:\n",
        "  * `@fpath`: nome bruto do arquivo\n",
        "- Saida:\n",
        "  * `@data`: uma lista contendo o datatime, nome bruto do arquivo, ala e grupo \n",
        "referente ao áudio"
      ]
    },
    {
      "cell_type": "code",
      "execution_count": 134,
      "metadata": {
        "id": "WE9eyC9tN5wu"
      },
      "outputs": [],
      "source": [
        "def extract_data_from_filename(fpath: str) -> list:\n",
        "    #Matches: lista de objetos matches que representam nomes de arquivos que respeitam o padrão\n",
        "    #Objeto match: a string mas dividida segundo algum padrão\n",
        "    #re.fullmatch(): retorna um objeto match se toda a string respeitar o padrão. Se não, retorna None\n",
        "      #Parâmetro pattern: ER definindo o padrão\n",
        "      #Parâmetro fpath: string a ser testada    \n",
        "    match: re.Match = re.fullmatch(PATTERN, fpath)\n",
        "\n",
        "    #Resgata o nome do arquivo\n",
        "    #matches[i].groups()[j]: acessa o grupo j do objeto matches[i] : match\n",
        "    #matches.groups()[j]: acessa o grupo j do objeto match : match\n",
        "    filename : str = \"-\".join( [i for i in match.groups()] )\n",
        "\n",
        "    #Constrói as primeiras quatro colunas (metadados) do áudio\n",
        "    data : list =  [  fpath,             #CAMINHO DO ARQUIVO\n",
        "                      filename,          #FILENAME\n",
        "                      match.groups()[0], #FOLD\n",
        "                      match.groups()[3], #TARGET\n",
        "                      match.groups()[1], #SRC_FILE OU CLIP_ID\n",
        "                      match.groups()[2]  #TAKE\n",
        "                    ]\n",
        "\n",
        "    return data"
      ]
    },
    {
      "cell_type": "markdown",
      "metadata": {
        "id": "VnQhfoySORyU"
      },
      "source": [
        "## `extract_feature_means(audio_file_path: str, verbose: bool = True) -> pd.DataFrame`\n",
        "\n",
        "- `extract_feature_means`: carrega um áudio e extrai as features típicas de\n",
        "processamento de sinal deste áudio (spectral centroid, spectral rollof, etc.)\n",
        "- Parâmetros:\n",
        "  * `@audio_file_path`: caminho do arquivo de áudio que se deseja extrair as features\n",
        "  * `@verbose = True`: indica se haverá print ou não\n",
        "- Saida:\n",
        "  * `@df`: pandas.DataFrame contendo todas as features extraídas do áudio"
      ]
    },
    {
      "cell_type": "code",
      "execution_count": 135,
      "metadata": {
        "id": "M1BJBM3COCec"
      },
      "outputs": [],
      "source": [
        "def extract_feature_means(audio_file_path: str, verbose: bool = True) -> pd.DataFrame:\n",
        "  #Define alguns valores importantes para extração\n",
        "  if verbose:\n",
        "      print(\"File:\", audio_file_path)\n",
        "  #DÚVIDA: QUEM E PORQUE FOR DETERMINADO O 20, 2048 E 512\n",
        "  #DÚVIDA: ESCREVER AQUI O QUE É CADA UM\n",
        "  number_of_mfcc = 20 #pensar em diminuir ou aumentar (testar)\n",
        "  n_fft = 2048  # FFT window size\n",
        "  hop_length = 512  # number audio of frames between STFT columns\n",
        "\n",
        "  #Extrai os metadados deste áudio com a função criada anteriormente\n",
        "  if verbose:\n",
        "      print(\"0.Extracting info from filepath...\")\n",
        "  filepath, filename, fold, target, src_file, take = extract_data_from_filename(audio_file_path)\n",
        "\n",
        "  #Carrega o áudio com librosa\n",
        "  if verbose:\n",
        "      print(\"1.Importing file with librosa...\")\n",
        "  try:\n",
        "      y, sr = librosa.load(audio_file_path)\n",
        "  except Exception as e:\n",
        "      print(e)\n",
        "      return None\n",
        "\n",
        "  #librosa.effects.trim(): Corta o silêncio inicial e final de um sinal de áudio\n",
        "    #Retorna signal: série temporal do sinal cortado\n",
        "    #Retorna o intervalo não silencioso do sinal\n",
        "  signal, _ = librosa.effects.trim(y)\n",
        "\n",
        "  #Armazena em d_audio a magnitude da frequencia do sinal após aplicar o STFT\n",
        "  #lr.stft(x): Short-time Fourier transform (STFT) que representa o sinal no domínico do tempo e frequencia\n",
        "    #DÚVIDA: PORQUE O ABS RETORNA A MAGNITUDE E O ANGLE A FASE? NÃO ENTENDI\n",
        "    #np.abs(D[..., f, t]): função magnitude da frequencia *******\n",
        "    #np.angle(D[..., f, t]): função fase da frequencia\n",
        "  if verbose:\n",
        "      print(\"2.Fourier transform...\")\n",
        "  #Short-time Fourier transform (STFT)\n",
        "  d_audio = np.abs(librosa.stft(signal, n_fft = n_fft, hop_length = hop_length))\n",
        "\n",
        "  #Armazena em db_audio, após transformar a magnitude da frequencia, a unidade comparativa dB do sinal\n",
        "  #lr.amplitude_to_db(): converte a amplitude do espectrogram para dB\n",
        "    #np.abs(lr.stft(x)): amplitude\n",
        "    #ref = np.max: DÚVIDA NÃO ENTENDI ISSO AQUIIIIIII\n",
        "      #OBS:np.max: pega o maior valor de um eixo dado\n",
        "  if verbose:\n",
        "      print(\"3.Spectrogram...\")\n",
        "  db_audio = librosa.amplitude_to_db(d_audio, ref=np.max)\n",
        "\n",
        "  #Armazena em s_db_audio, após extrair o espectograma em escala mel, a unidade comparativa dB do sinal\n",
        "  #librosa.feature.melspectrogram(): computa o espectograma em escala mel do sinal\n",
        "    #Parâmetro signal: serie temporal do audio\n",
        "    #Parâmtro sr: taxa de amostragem\n",
        "  if verbose:\n",
        "      print(\"4.Mel spectograms...\")\n",
        "  s_audio = librosa.feature.melspectrogram(signal, sr=sr)\n",
        "  s_db_audio = librosa.amplitude_to_db(s_audio, ref=np.max)\n",
        "\n",
        "  #Captura o elemento harmômico e percusivo do sinal\n",
        "  #librosa.effects.hpss(): decompõem uma serie temporal de audio componentes harmônicos e percursivos\n",
        "    #Retorno y_harm: serie temporal do elemento harmonico\n",
        "    #Retorno y_perc: serie temporal do elemento percursivo\n",
        "  if verbose:\n",
        "      print(\"6.Harmonics and perceptrual...\")\n",
        "  y_harm, y_perc = librosa.effects.hpss(signal)\n",
        "\n",
        "  #Captura as features relacionadas a spectral centroid\n",
        "  #librosa.feature.spectral_centroid(): computa o spectral centroid\n",
        "    #Parâmetro signal: serie temporal do audio\n",
        "    #Parâmtro sr: taxa de amostragem\n",
        "    #Retorna: centroidnp.ndarray [shape=(…, 1, t)]\n",
        "  #ibrosa.feature.delta(): computa delta features (estimativa local de derivadas dos dados de entrada)\n",
        "    #Parâmetro order: a ordem da derivada (primeira, segunda, etc.)\n",
        "  #DÚVIDA: POR QUE AS DERIVADAS SÃO IMPORTANTES MESMO?\n",
        "  if verbose:\n",
        "      print(\"7.Spectral centroid...\")\n",
        "  # Calculate the Spectral Centroids\n",
        "  spectral_centroids = librosa.feature.spectral_centroid(signal, sr=sr)[0]\n",
        "  spectral_centroids_delta = librosa.feature.delta(spectral_centroids)\n",
        "  spectral_centroids_accelerate = librosa.feature.delta(spectral_centroids, order=2)\n",
        "\n",
        "  #Captura o cromagrama\n",
        "  #librosa.feature.chroma_stft(): computa o cromagrama da onda\n",
        "    #Parâmetro signal: audio time series\n",
        "    #Parâmetro sr: sample rate\n",
        "    #Parâmetro hop_length: FFT window size\n",
        "    #Retorna: um np.ndarray() com a \"energia normalizada\" para cada croma em cada frama\n",
        "    #DÚVIDA: não entendi muito bem o que seria energia normalizada\n",
        "  if verbose:\n",
        "      print(\"8.Chroma features...\")\n",
        "  chromagram = librosa.feature.chroma_stft(signal,\n",
        "                                            sr=sr,\n",
        "                                            hop_length=hop_length)\n",
        "  #DÚVIDA: QUE FEATURE É ESSA?\n",
        "  #librosa.beat.beat_track(): detecta o BPM (MAS O QUE É ISSO?)\n",
        "    #Retorna: float relativo ao tempo global estimado (batidas por minuto)\n",
        "    #Retorna: np.ndarr0ay relativo a posição estimada dos eventos de batida (em geral, unidade dado em frames)\n",
        "  if verbose:\n",
        "      print(\"9.Tempo BPM...\")\n",
        "  tempo_y, _ = librosa.beat.beat_track(signal, sr=sr)\n",
        "\n",
        "  #Captura Spectral Rollof, Spectral Flux e Spectral Bandwidth\n",
        "  if verbose:\n",
        "      print(\"10.Spectral rolloff...\")\n",
        "  #-->Spectral RollOff Vector\n",
        "  #librosa.feature.spectral_rolloff():\n",
        "    #Retorna: np.ndarray relativo a frequencia roll-off para cada frame\n",
        "  #???? ler\n",
        "  #DÚVIDA: POR QUE PEGAMOS APENAS O FRAME 0?\n",
        "  spectral_rolloff = librosa.feature.spectral_rolloff(signal, sr=sr)[0]\n",
        "  #-->Spectral Flux\n",
        "  #DÚVIDA: O QUE É\n",
        "  \"\"\"\n",
        "  relaciondo ao inicio de um som\n",
        "  \"\"\"\n",
        "  #librosa.onset.onset_strength(): compute o spectral flux \"onset strength envelope\"\n",
        "    #Retorna: vetor contendo onset stregth \"envelopado\"\n",
        "  onset_env = librosa.onset.onset_strength(y=signal, sr=sr)\n",
        "  #-->Spectral Bandwidth\n",
        "  #librosa.feature.spectral_bandwidth(): computa a p-ésima ordem do spectal bandwith\n",
        "    #Returno: np.ndarray relativo a frequencia bandwidth para cada frame\n",
        "  spectral_bandwidth_2 = librosa.feature.spectral_bandwidth(signal, sr=sr)[0]\n",
        "  spectral_bandwidth_3 = librosa.feature.spectral_bandwidth(signal,\n",
        "                                                            sr=sr,\n",
        "                                                            p=3)[0]\n",
        "  spectral_bandwidth_4 = librosa.feature.spectral_bandwidth(signal,\n",
        "                                                            sr=sr,\n",
        "                                                            p=4)[0]\n",
        "\n",
        "#columns = ['filepath', 'fold', 'target', 'src_file', 'take']\n",
        "  #Formatação das colunas e linhas do DataFrame\n",
        "  audio_features = {\n",
        "      \"filename\":\n",
        "      filename,\n",
        "      \"filepath\":\n",
        "      filepath,\n",
        "      \"fold\":\n",
        "      fold,\n",
        "      \"target\":\n",
        "      target,\n",
        "      \"src_file\":\n",
        "      src_file,\n",
        "      \"take\":\n",
        "      take,\n",
        "      #librosa.feature.zero_crossing_rate(): computa a taxa de \"zero-crossing\" de uma serie temporal de audio\n",
        "        #Returna: np.ndarray relativo a fração de \"zero-crossing\" em cada frame\n",
        "      \"zero_crossing_rate\":\n",
        "      np.mean(librosa.feature.zero_crossing_rate(signal)[0]),\n",
        "      \"zero_crossings\":\n",
        "      #librosa.zero_crossings(): encontra \"zero-crossing\" do sinal \n",
        "        #Parâmetro pad = False: não considera signal[0] como sendo válido\n",
        "        #Retorna: np.ndarray indicando \"zero-crossing\" do sinal ao longo do eixo\n",
        "      np.sum(librosa.zero_crossings(signal, pad=False)),\n",
        "      \"spectrogram\":\n",
        "      np.mean(db_audio[0]),\n",
        "      \"mel_spectrogram\":\n",
        "      np.mean(s_db_audio[0]),\n",
        "      \"harmonics\":\n",
        "      np.mean(y_harm),\n",
        "      \"perceptual_shock_wave\":\n",
        "      np.mean(y_perc),\n",
        "      \"spectral_centroids\":\n",
        "      np.mean(spectral_centroids),\n",
        "      \"spectral_centroids_delta\":\n",
        "      np.mean(spectral_centroids_delta),\n",
        "      \"spectral_centroids_accelerate\":\n",
        "      np.mean(spectral_centroids_accelerate),\n",
        "      \"chroma1\":\n",
        "      np.mean(chromagram[0]),\n",
        "      \"chroma2\":\n",
        "      np.mean(chromagram[1]),\n",
        "      \"chroma3\":\n",
        "      np.mean(chromagram[2]),\n",
        "      \"chroma4\":\n",
        "      np.mean(chromagram[3]),\n",
        "      \"chroma5\":\n",
        "      np.mean(chromagram[4]),\n",
        "      \"chroma6\":\n",
        "      np.mean(chromagram[5]),\n",
        "      \"chroma7\":\n",
        "      np.mean(chromagram[6]),\n",
        "      \"chroma8\":\n",
        "      np.mean(chromagram[7]),\n",
        "      \"chroma9\":\n",
        "      np.mean(chromagram[8]),\n",
        "      \"chroma10\":\n",
        "      np.mean(chromagram[9]),\n",
        "      \"chroma11\":\n",
        "      np.mean(chromagram[10]),\n",
        "      \"chroma12\":\n",
        "      np.mean(chromagram[11]),\n",
        "      \"tempo_bpm\":\n",
        "      tempo_y,\n",
        "      \"spectral_rolloff\":\n",
        "      np.mean(spectral_rolloff),\n",
        "      \"spectral_flux\":\n",
        "      np.mean(onset_env),\n",
        "      \"spectral_bandwidth_2\":\n",
        "      np.mean(spectral_bandwidth_2),\n",
        "      \"spectral_bandwidth_3\":\n",
        "      np.mean(spectral_bandwidth_3),\n",
        "      \"spectral_bandwidth_4\":\n",
        "      np.mean(spectral_bandwidth_4),\n",
        "  }\n",
        "\n",
        "  #Extraí o DataFrame contendo o MFCC do áudio e suas derivadas primeira e segunda\n",
        "  mfcc_df = extract_mfcc_feature_means(filename,\n",
        "                                        signal,\n",
        "                                        sample_rate=sr,\n",
        "                                        number_of_mfcc=number_of_mfcc)\n",
        "\n",
        "  #Converte o dicionário em DataFrame\n",
        "  df = pd.DataFrame.from_records(data=[audio_features])\n",
        "\n",
        "  #pd.merge(): fundi objetos DataFrames/Series com memso estilo de database\n",
        "    #Parâmetro df e mfcc_df: os dois DataFrames que queremos juntas\n",
        "    #Parâmetro on: a coluna que será usada como orientação para juntar\n",
        "  df = pd.merge(df, mfcc_df, on = 'filename')\n",
        "\n",
        "  if verbose:\n",
        "      print(\"DONE:\", audio_file_path)\n",
        "\n",
        "  return df\n",
        "\n",
        "  # librosa.feature.mfcc(signal)[0, 0]"
      ]
    },
    {
      "cell_type": "markdown",
      "metadata": {
        "id": "AGbDEHl1OTjd"
      },
      "source": [
        "## `extract_mfcc_feature_means(audio_file_name: str, signal: np.ndarray, sample_rate: int, number_of_mfcc: int) -> pd.DataFrame`\n",
        "\n",
        "- `extract_mfcc_feature_means`: extraí a feature Mel-Frequency Cepstrum Coefficients (MFCC) de um arquivo de áudio, bem como sua derivado primeira e segunda. Por fim, adiciona esses valores em um DataFrame\n",
        "- Parâmetros:\n",
        "  * `@audio_file_name`: nome do arquivo de áudio\n",
        "  * `@signal`: serie temporal representando o áudio\n",
        "  * `@sample_rate`: taxa de amostragem o áudio\n",
        "  * `@number_of_mfcc`: NÃO SEI O QUE É ISSO\n",
        "- Saida:\n",
        "  * `@df`: pandas.DataFrame contendo as MFCC features do áudio"
      ]
    },
    {
      "cell_type": "code",
      "execution_count": 136,
      "metadata": {
        "id": "b58wGD8TOEoE"
      },
      "outputs": [],
      "source": [
        "def extract_mfcc_feature_means(audio_file_name: str, \n",
        "                               signal: np.ndarray,\n",
        "                               sample_rate: int,\n",
        "                               number_of_mfcc: int) -> pd.DataFrame:\n",
        "    \n",
        "    #Computa MFCC de uma serie temporal de áudio, bem como a feature delta de ordem 1 e 2 relacionado a ela\n",
        "    #librosa.feature.mfcc(): computa MFCC de uma série de áudio\n",
        "      #Retorna: np.ndarray relativo à sequencia MFCC\n",
        "      #DÚVIDA: O QUE CADA ELEMENTO DA SEQUÊNCIA QUER DIZER?\n",
        "    mfcc_alt = librosa.feature.mfcc(y=signal,\n",
        "                                    sr=sample_rate,\n",
        "                                    n_mfcc=number_of_mfcc)\n",
        "    delta = librosa.feature.delta(mfcc_alt)\n",
        "    accelerate = librosa.feature.delta(mfcc_alt, order=2)\n",
        "\n",
        "    #Cria o dicionário inicial para formação do DataFrame\n",
        "    mfcc_features = {\n",
        "        \"filename\": audio_file_name,\n",
        "    }\n",
        "\n",
        "    #DÚVIDA: DA ONDE SAIU A IDEIA DE CONSIDERAR A DERIVADA PRIMERIA E SEGUNDA NA ANÁLISE\n",
        "    #Adiciona cada esquema e elemento do MFCC e seus deltas ao dicionário mfcc_features\n",
        "    for i in range(0, number_of_mfcc):\n",
        "        # dict.update({'key3': 'geeks'})\n",
        "\n",
        "        #Adiciona mfcc[i] coefficient ao dicionário\n",
        "        #string.join(): função embutida nas variáveis tipo string que \n",
        "          #junta elementos de uma lista separando-os pela string\n",
        "        key_name = \"\".join(['mfcc', str(i)])\n",
        "        mfcc_value = np.mean(mfcc_alt[i])\n",
        "        #dictionary.update({key_name: value}): adiciona mais um par ao dicionário\n",
        "        mfcc_features.update({key_name: mfcc_value})\n",
        "\n",
        "        #Adiciona mfcc[i] delta coefficient ao dicionário\n",
        "        key_name = \"\".join(['mfcc_delta_', str(i)])\n",
        "        mfcc_value = np.mean(delta[i])\n",
        "        mfcc_features.update({key_name: mfcc_value})\n",
        "        \n",
        "        #Adiciona mfcc[i] acclerate coefficient ao dicionário\n",
        "        key_name = \"\".join(['mfcc_accelerate_', str(i)])\n",
        "        mfcc_value = np.mean(accelerate[i])\n",
        "        mfcc_features.update({key_name: mfcc_value})\n",
        "\n",
        "    #pandas.DataFrame.from_records(data): converte estrutura ou registro ndarray em DataFrame\n",
        "    df = pd.DataFrame.from_records(data=[mfcc_features])\n",
        "\n",
        "    return df"
      ]
    },
    {
      "cell_type": "markdown",
      "metadata": {
        "id": "FR_rJl3rOGKF"
      },
      "source": [
        "# Extraindo áudio bruto dos arquivos `.wav` usando librosa"
      ]
    },
    {
      "cell_type": "markdown",
      "metadata": {
        "id": "q-1mfEuyYRZ9"
      },
      "source": [
        "**Acessando caminho dentro do drive**"
      ]
    },
    {
      "cell_type": "code",
      "execution_count": 5,
      "metadata": {
        "colab": {
          "base_uri": "https://localhost:8080/"
        },
        "id": "jZDHtfN6oo9A",
        "outputId": "550943f6-ba29-4eee-d92d-a0e09f0f9ef1"
      },
      "outputs": [
        {
          "ename": "ModuleNotFoundError",
          "evalue": "No module named 'google'",
          "output_type": "error",
          "traceback": [
            "\u001b[0;31m---------------------------------------------------------------------------\u001b[0m",
            "\u001b[0;31mModuleNotFoundError\u001b[0m                       Traceback (most recent call last)",
            "\u001b[1;32m/home/tarcidio/analysis-ESC50/feature_extraction_ESC50.ipynb Cell 13\u001b[0m in \u001b[0;36m<cell line: 1>\u001b[0;34m()\u001b[0m\n\u001b[0;32m----> <a href='vscode-notebook-cell:/home/tarcidio/analysis-ESC50/feature_extraction_ESC50.ipynb#X16sZmlsZQ%3D%3D?line=0'>1</a>\u001b[0m \u001b[39mfrom\u001b[39;00m \u001b[39mgoogle\u001b[39;00m\u001b[39m.\u001b[39;00m\u001b[39mcolab\u001b[39;00m \u001b[39mimport\u001b[39;00m drive\n\u001b[1;32m      <a href='vscode-notebook-cell:/home/tarcidio/analysis-ESC50/feature_extraction_ESC50.ipynb#X16sZmlsZQ%3D%3D?line=1'>2</a>\u001b[0m drive\u001b[39m.\u001b[39mmount(\u001b[39m'\u001b[39m\u001b[39m/content/drive\u001b[39m\u001b[39m'\u001b[39m)\n",
            "\u001b[0;31mModuleNotFoundError\u001b[0m: No module named 'google'"
          ]
        }
      ],
      "source": [
        "from google.colab import drive\n",
        "drive.mount('/content/drive')"
      ]
    },
    {
      "cell_type": "markdown",
      "metadata": {
        "id": "lIC4HOd0YYDG"
      },
      "source": [
        "**Definindo início e extensão do arquivo**"
      ]
    },
    {
      "cell_type": "code",
      "execution_count": 162,
      "metadata": {
        "id": "l6p4Y-IlYO8H"
      },
      "outputs": [],
      "source": [
        "EXTENSION: str = '.wav'\n",
        "COMMON_PATH: str = '/home/tarcidio/analysis-ESC50/'\n",
        "\n",
        "NUM_ITERATION = '4'\n",
        "\n",
        "DATA_NAME = 'audios/audio' + NUM_ITERATION\n",
        "#DATA_NAME = 'audios'\n",
        "DATA_DIR: str = os.path.join(COMMON_PATH, DATA_NAME)\n",
        "\n",
        "CSV_DIR = os.path.join(COMMON_PATH, 'csv_feature')\n",
        "CSV_NAME = 'feature' + NUM_ITERATION + '.csv'\n"
      ]
    },
    {
      "cell_type": "markdown",
      "metadata": {
        "id": "tV108PKEYhTB"
      },
      "source": [
        "**Varrendo todos os arquivos de um diretório. Para cada arquivo `.wav` encontrado, anexar na lista `fpaths`**\n",
        "  * Biblioteca `os`: provê funções para mexer no sistema operacional  \n",
        "  * `os.path.join()`: junta um ou mais componentes de caminho usando `\\`\n",
        "    * Parâmetro `root`: caminho até o arquivo\n",
        "    * Parâmetro `file`: arquivo em si (podendo ter mais um pouco de caminho)\n",
        "  * `os.walk()`: gera os nomes dos arquivos dado uma árvore de diretório\n",
        "    * Parâmetro `DATA_DIR`: diretório raiz\n",
        "    * Retorna:\n",
        "      * `dirpath`: caminho do diretório raiz da iteração\n",
        "      * `dirnames`: caminho dos subdiretórios do diretório raiz da iteração\n",
        "      * `filenames`: nome do arquivo do diretório\n",
        "  * `.endswith()`: retorna True se a string terminar com o que é especificado no parâmetro da função"
      ]
    },
    {
      "cell_type": "code",
      "execution_count": 163,
      "metadata": {
        "id": "KocqwB7vpFkp"
      },
      "outputs": [],
      "source": [
        "fpaths: list = sorted([\n",
        "    os.path.join(root, file) \n",
        "      for root, _, files in os.walk(DATA_DIR)\n",
        "        for file in files if file.endswith(EXTENSION)\n",
        "])"
      ]
    },
    {
      "cell_type": "markdown",
      "metadata": {
        "id": "yk9qbl4lr3u6"
      },
      "source": [
        "**Sobre o dataset a convenção de nome**\n",
        "\n",
        "*  2000 registros de audios em formato WAV (5 segundos, 44.1 kHx, mono)\n",
        ">* Convention: `{FOLD}-{CLIP_ID}-{TAKE}-{TARGET}.wav`\n",
        ">  * `{FOLD}` - index of the cross-validation fold,\n",
        ">  * `{CLIP_ID}` - ID of the original Freesound clip,\n",
        ">  * `{TAKE}` - letter disambiguating between different fragments from the same Freesound clip,\n",
        ">  * `{TARGET}` - class in numeric format [0, 49]."
      ]
    },
    {
      "cell_type": "markdown",
      "metadata": {
        "id": "7Bb12ZFFduVL"
      },
      "source": [
        "**Verificando caminhos que respeitam o padrão:**\n",
        "* Objetos `match`: string, mas dividida segundo algum padrão\n",
        "* `re.fullmatch()`: retorna um objeto `match` se toda a string respeitar o padrão. Se não, retorna None\n",
        "  * Parâmetro `pattern`: padrão definido por ER\n",
        "  * Parâmetro `fpath`: string a ser testada\n",
        "* `matches[i].groups()[j]`: acessa o grupo `j` de um objeto `matches[i]`"
      ]
    },
    {
      "cell_type": "code",
      "execution_count": 164,
      "metadata": {
        "id": "T2rosFqksoEr"
      },
      "outputs": [],
      "source": [
        "#Matches: lista de objetos matches que representam nomes de arquivos que respeitam o padrão\n",
        "matches: list = [re.fullmatch(PATTERN, fpath) for fpath in fpaths]"
      ]
    },
    {
      "cell_type": "markdown",
      "metadata": {
        "id": "qsErZqfdeXNG"
      },
      "source": [
        "**Confirmando se todos os arquivos respeitam o padrão:**\n",
        "* Declaração `\"raise\"`: gera um erro e para o fluxo do programa\n",
        "  * `raise ValueError()`: tipo de exceção que é gerada quando uma operação ou função recebe um argumento com valor inapropriada"
      ]
    },
    {
      "cell_type": "code",
      "execution_count": 165,
      "metadata": {
        "id": "Vyc0-3b4sqQa"
      },
      "outputs": [],
      "source": [
        "if len(matches) != len(fpaths):\n",
        "    raise ValueError(\"check fpath patterns\")"
      ]
    },
    {
      "cell_type": "code",
      "execution_count": 13,
      "metadata": {
        "id": "3_DAMhSnf-Vs"
      },
      "outputs": [],
      "source": [
        "#Na função set_index, verify_integrity = false indica que não haverá checagem de index duplicados\n",
        "#Seta 'filename' como sendo o index\n",
        "#OBS: por que não usou verify_integrity = False no 'audio_kdd.py'?\n",
        "\n",
        "#NÃO VAMO SETAR INDEX COM FILENAME AINDA PORQUE USAMOS A COLUNA COMO ENTRADA DE OUTRA FUNÇÃO\n",
        "#audios.set_index(['filename'], drop = True, inplace = True, verify_integrity=False)"
      ]
    },
    {
      "cell_type": "markdown",
      "metadata": {
        "id": "LUz1ZgQFg-dG"
      },
      "source": [
        "**Preparação para extração das features usando multiprocessamento**"
      ]
    },
    {
      "cell_type": "code",
      "execution_count": 166,
      "metadata": {
        "colab": {
          "base_uri": "https://localhost:8080/"
        },
        "id": "xtC-4mO2Xl4s",
        "outputId": "1aa86020-8740-4c87-fd2f-712cced89707"
      },
      "outputs": [
        {
          "name": "stdout",
          "output_type": "stream",
          "text": [
            "Processing 18 audios...\n"
          ]
        }
      ],
      "source": [
        "print('Processing', len(fpaths), 'audios...')\n",
        "\n",
        "#Vetor cujos elementos serão, cada um, a linha do DataFrame final contendo os metadados e as features\n",
        "result = []\n",
        "\n",
        "#Variável que determina em quantos processos serão feitas as extrações\n",
        "#DÚVIDA: POR QUE FOI ESCOLHIDO A QUANTIDADE 32?\n",
        "n_processes = 4"
      ]
    },
    {
      "cell_type": "markdown",
      "metadata": {
        "id": "Afw3FNp0hJ9m"
      },
      "source": [
        "**Extração dos features**\n",
        "* Declaração `with`: usada em manipulações de exceções para manter\n",
        "o código mais legível. Também simplifica o gerenciamento de recursos\n",
        "de streams. Ex: abertura de arquivos\n",
        "\n",
        "1) Sem `with`\n",
        "```python\n",
        "  file = open('file_path', 'w')\n",
        "  try:\n",
        "      file.write('hello world')\n",
        "  finally:\n",
        "      file.close()\n",
        "```\n",
        "2) Com `with`\n",
        "```python\n",
        "  with open('file_path', 'w') as file:\n",
        "      file.write('hello world !')\n",
        "```\n",
        "  * **NOTE**: com `with`, o próprio Python libera os recursos no caso de erro]\n",
        "  * **MAIS**: https://www.geeksforgeeks.org/with-statement-in-python/\n",
        "* `warnings.catch_warnings()`: suprime erros. Em geral, é desejados quando já se\n",
        "sabe que uma função obsoleta está sendo usada e não quer ver os avisos que elas \n",
        "irão gerar. Use esta função após o `with` e com `warnings.simplefilter(\"ignore\")`."
      ]
    },
    {
      "cell_type": "markdown",
      "metadata": {
        "id": "WhNdDSyFiUty"
      },
      "source": [
        "**Multiprocessamento**\n",
        "* Biblioteca `multiprocessing`: pacote que suporte geração de processos, oferecendo concorrência entre subprocessos. \n",
        "* Objeto `Pool`: objeto base usado pela biblitoeca para paralelizar execução de \n",
        "uma função em vários valores de entrada, distribuindo os dados de entrada entre\n",
        "os processos. A classe `Pool`, em suma, representa um ramo de processos ativos\n",
        "* `mp.Pool(n_processes)`: cria `n_processes` objetos `pool` que vão rodar em paralelo\n",
        "* `pool.map(function, iterable, chunksize)`: executa a função `function` em cada\n",
        "um dos elementos da lista `iterable`. `Chunksize` determina quantos desses elementos serão distribuidos para cada um dos processsos.\n",
        "* `pool.terminate()`: para o processo ativo imediatamente \n",
        "* `pool.close()`: espera pelo fim do processo ativo\n",
        "* `pool.join()`: impede que mais tarefas sejam subtidas ao pool. Quando todas forem concluídas, encerasse o `mp.Pool`\n",
        "* MAIS: https://docs.python.org/3/library/multiprocessing.html"
      ]
    },
    {
      "cell_type": "code",
      "execution_count": 167,
      "metadata": {
        "id": "gsixfiQRnN-D"
      },
      "outputs": [
        {
          "name": "stdout",
          "output_type": "stream",
          "text": [
            "File:File:File:File:    /home/tarcidio/analysis-ESC50/audios/audio4/1-155858-A-25.wav/home/tarcidio/analysis-ESC50/audios/audio4/2-135649-C-45.wav/home/tarcidio/analysis-ESC50/audios/audio4/5-156999-B-19.wav/home/tarcidio/analysis-ESC50/audios/audio4/3-170383-A-38.wav\n",
            "\n",
            "\n",
            "0.Extracting info from filepath...0.Extracting info from filepath...0.Extracting info from filepath...\n",
            "\n",
            "\n",
            "\n",
            "1.Importing file with librosa...1.Importing file with librosa...1.Importing file with librosa...\n",
            "\n",
            "0.Extracting info from filepath...\n",
            "1.Importing file with librosa...\n",
            "\n",
            "2.Fourier transform...\n",
            "3.Spectrogram...\n",
            "4.Mel spectograms...\n",
            "6.Harmonics and perceptrual...\n",
            "2.Fourier transform...\n",
            "3.Spectrogram...\n",
            "4.Mel spectograms...\n",
            "2.Fourier transform...\n",
            "3.Spectrogram...\n",
            "4.Mel spectograms...\n",
            "7.Spectral centroid...\n",
            "6.Harmonics and perceptrual...\n",
            "8.Chroma features...\n",
            "9.Tempo BPM...\n",
            "6.Harmonics and perceptrual...\n",
            "10.Spectral rolloff...\n",
            "2.Fourier transform...\n",
            "3.Spectrogram...\n",
            "4.Mel spectograms...\n",
            "DONE: /home/tarcidio/analysis-ESC50/audios/audio4/3-170383-A-38.wav\n",
            "File: /home/tarcidio/analysis-ESC50/audios/audio4/3-174840-A-43.wav\n",
            "0.Extracting info from filepath...\n",
            "1.Importing file with librosa...\n",
            "6.Harmonics and perceptrual...\n",
            "7.Spectral centroid...\n",
            "8.Chroma features...\n",
            "9.Tempo BPM...\n",
            "7.Spectral centroid...\n",
            "10.Spectral rolloff...\n",
            "8.Chroma features...\n",
            "2.Fourier transform...\n",
            "3.Spectrogram...\n",
            "4.Mel spectograms...9.Tempo BPM...\n",
            "\n",
            "10.Spectral rolloff...\n",
            "6.Harmonics and perceptrual...\n",
            "DONE: /home/tarcidio/analysis-ESC50/audios/audio4/5-156999-B-19.wav\n",
            "File: /home/tarcidio/analysis-ESC50/audios/audio4/5-195517-A-7.wav\n",
            "0.Extracting info from filepath...\n",
            "1.Importing file with librosa...7.Spectral centroid...\n",
            "\n",
            "DONE:8.Chroma features... /home/tarcidio/analysis-ESC50/audios/audio4/2-135649-C-45.wav\n",
            "File: /home/tarcidio/analysis-ESC50/audios/audio4/2-141681-A-36.wav\n",
            "0.Extracting info from filepath...\n",
            "\n",
            "9.Tempo BPM...1.Importing file with librosa...\n",
            "7.Spectral centroid...\n",
            "\n",
            "8.Chroma features...\n",
            "10.Spectral rolloff...9.Tempo BPM...\n",
            "\n",
            "10.Spectral rolloff...\n",
            "DONE:2.Fourier transform... DONE:\n",
            "/home/tarcidio/analysis-ESC50/audios/audio4/3-174840-A-43.wav \n",
            "/home/tarcidio/analysis-ESC50/audios/audio4/1-155858-A-25.wav3.Spectrogram...\n",
            "File:\n",
            " /home/tarcidio/analysis-ESC50/audios/audio4/3-203373-A-39.wav4.Mel spectograms...\n",
            "File:\n",
            "0.Extracting info from filepath...6.Harmonics and perceptrual... \n",
            "/home/tarcidio/analysis-ESC50/audios/audio4/1-28808-A-43.wav\n",
            "\n",
            "2.Fourier transform...0.Extracting info from filepath...\n",
            "1.Importing file with librosa...\n",
            "3.Spectrogram...\n",
            "4.Mel spectograms...\n",
            "1.Importing file with librosa...\n",
            "\n",
            "6.Harmonics and perceptrual...\n",
            "2.Fourier transform...\n",
            "3.Spectrogram...\n",
            "4.Mel spectograms...\n",
            "2.Fourier transform...\n",
            "6.Harmonics and perceptrual...\n",
            "3.Spectrogram...\n",
            "4.Mel spectograms...\n",
            "7.Spectral centroid...\n",
            "7.Spectral centroid...6.Harmonics and perceptrual...\n",
            "\n",
            "7.Spectral centroid...8.Chroma features...\n",
            "8.Chroma features...\n",
            "8.Chroma features...\n",
            "\n",
            "9.Tempo BPM...9.Tempo BPM...\n",
            "\n",
            "9.Tempo BPM...10.Spectral rolloff...\n",
            "\n",
            "10.Spectral rolloff...\n",
            "10.Spectral rolloff...\n",
            "DONE: /home/tarcidio/analysis-ESC50/audios/audio4/3-203373-A-39.wav\n",
            "File:DONE:  /home/tarcidio/analysis-ESC50/audios/audio4/5-195517-A-7.wav/home/tarcidio/analysis-ESC50/audios/audio4/4-133674-A-26.wav\n",
            "DONE:\n",
            "File: 0.Extracting info from filepath... \n",
            "/home/tarcidio/analysis-ESC50/audios/audio4/2-141681-A-36.wav/home/tarcidio/analysis-ESC50/audios/audio4/5-218980-A-30.wav\n",
            "0.Extracting info from filepath...\n",
            "1.Importing file with librosa...\n",
            "\n",
            "File: /home/tarcidio/analysis-ESC50/audios/audio4/2-32834-A-4.wav1.Importing file with librosa...\n",
            "\n",
            "0.Extracting info from filepath...\n",
            "1.Importing file with librosa...\n",
            "7.Spectral centroid...\n",
            "8.Chroma features...\n",
            "9.Tempo BPM...\n",
            "10.Spectral rolloff...\n",
            "2.Fourier transform...\n",
            "3.Spectrogram...\n",
            "4.Mel spectograms...2.Fourier transform...\n",
            "\n",
            "3.Spectrogram...6.Harmonics and perceptrual...\n",
            "4.Mel spectograms...\n",
            "\n",
            "6.Harmonics and perceptrual...2.Fourier transform...\n",
            "DONE:  /home/tarcidio/analysis-ESC50/audios/audio4/1-28808-A-43.wav\n",
            "File:\n",
            "/home/tarcidio/analysis-ESC50/audios/audio4/1-46938-A-7.wav3.Spectrogram...\n",
            "0.Extracting info from filepath...\n",
            "\n",
            "4.Mel spectograms...\n",
            "1.Importing file with librosa...\n",
            "6.Harmonics and perceptrual...\n",
            "7.Spectral centroid...\n",
            "8.Chroma features...\n",
            "9.Tempo BPM...\n",
            "10.Spectral rolloff...\n",
            "2.Fourier transform...\n",
            "3.Spectrogram...DONE:\n",
            " 4.Mel spectograms.../home/tarcidio/analysis-ESC50/audios/audio4/5-218980-A-30.wav\n",
            " File:\n",
            "7.Spectral centroid...\n",
            "/home/tarcidio/analysis-ESC50/audios/audio4/5-221529-A-39.wav6.Harmonics and perceptrual...\n",
            "\n",
            "0.Extracting info from filepath...\n",
            "1.Importing file with librosa...\n",
            "8.Chroma features...\n",
            "7.Spectral centroid...\n",
            "9.Tempo BPM...\n",
            "8.Chroma features...\n",
            "10.Spectral rolloff...\n",
            "9.Tempo BPM...\n",
            "DONE:10.Spectral rolloff... 2.Fourier transform...\n",
            "\n",
            "3.Spectrogram.../home/tarcidio/analysis-ESC50/audios/audio4/2-32834-A-4.wav\n",
            "\n",
            "File:4.Mel spectograms... \n",
            "6.Harmonics and perceptrual.../home/tarcidio/analysis-ESC50/audios/audio4/3-119120-B-48.wav\n",
            "\n",
            "0.Extracting info from filepath...\n",
            "1.Importing file with librosa...\n",
            "7.Spectral centroid...\n",
            "DONE:8.Chroma features...\n",
            " /home/tarcidio/analysis-ESC50/audios/audio4/4-133674-A-26.wav9.Tempo BPM...\n",
            "\n",
            "File: /home/tarcidio/analysis-ESC50/audios/audio4/5-263501-A-25.wav\n",
            "10.Spectral rolloff...\n",
            "0.Extracting info from filepath...\n",
            "1.Importing file with librosa...\n",
            "7.Spectral centroid...\n",
            "8.Chroma features...\n",
            "9.Tempo BPM...\n",
            "10.Spectral rolloff...\n",
            "DONE: /home/tarcidio/analysis-ESC50/audios/audio4/1-46938-A-7.wav\n",
            "File:2.Fourier transform...\n",
            " /home/tarcidio/analysis-ESC50/audios/audio4/2-130245-A-34.wav\n",
            "DONE: /home/tarcidio/analysis-ESC50/audios/audio4/5-221529-A-39.wav0.Extracting info from filepath...\n",
            "3.Spectrogram...\n",
            "\n",
            "2.Fourier transform...\n",
            "3.Spectrogram...4.Mel spectograms...1.Importing file with librosa...\n",
            "\n",
            "\n",
            "4.Mel spectograms...\n",
            "6.Harmonics and perceptrual...\n",
            "6.Harmonics and perceptrual...\n",
            "2.Fourier transform...\n",
            "3.Spectrogram...\n",
            "4.Mel spectograms...\n",
            "6.Harmonics and perceptrual...\n",
            "7.Spectral centroid...\n",
            "8.Chroma features...\n",
            "9.Tempo BPM...\n",
            "7.Spectral centroid...\n",
            "10.Spectral rolloff...8.Chroma features...\n",
            "\n",
            "9.Tempo BPM...\n",
            "10.Spectral rolloff...\n",
            "DONE: /home/tarcidio/analysis-ESC50/audios/audio4/5-263501-A-25.wav\n",
            "File: /home/tarcidio/analysis-ESC50/audios/audio4/5-263831-B-6.wav\n",
            "0.Extracting info from filepath...\n",
            "1.Importing file with librosa...7.Spectral centroid...\n",
            "\n",
            "8.Chroma features...\n",
            "9.Tempo BPM...\n",
            "DONE: /home/tarcidio/analysis-ESC50/audios/audio4/3-119120-B-48.wav10.Spectral rolloff...\n",
            "\n",
            "DONE: 2.Fourier transform.../home/tarcidio/analysis-ESC50/audios/audio4/2-130245-A-34.wav\n",
            "\n",
            "3.Spectrogram...\n",
            "4.Mel spectograms...\n",
            "6.Harmonics and perceptrual...\n",
            "7.Spectral centroid...\n",
            "8.Chroma features...\n",
            "9.Tempo BPM...\n",
            "10.Spectral rolloff...\n",
            "DONE: /home/tarcidio/analysis-ESC50/audios/audio4/5-263831-B-6.wav\n"
          ]
        }
      ],
      "source": [
        "with warnings.catch_warnings():\n",
        "    warnings.simplefilter(\"ignore\")\n",
        "    with mp.Pool(processes=n_processes) as pool:\n",
        "        \"\"\"result recebe, de vários processamentos, elementos que contem os metadados\n",
        "e as features de cada arquivo de áudio. A variável result será usada como\n",
        "argumento para concatenar todas as informações e gerar o DataFrame\"\"\"\n",
        "        result = pool.map(extract_feature_means, #Função a ser aplicada a cada nome de arquivo\n",
        "                          iterable=fpaths,     #Lista com o nome dos arquivos\n",
        "                          chunksize=len(fpaths) // n_processes\n",
        "                                                 #Distribuição para cada processo\n",
        "                          ) \n",
        "        pool.close()\n",
        "        pool.join()"
      ]
    },
    {
      "cell_type": "markdown",
      "metadata": {
        "id": "KD0WFyGPjpbd"
      },
      "source": [
        "**Concatena os dados extraídos**\n",
        "* `enumerate()`:  adiciona um contador para um iteravel e retorna na forma de objeto enumerador\n",
        "\n",
        "Exemplo:\n",
        "\n",
        "```python\n",
        "l1 = [\"eat\", \"sleep\", \"repeat\"]\n",
        "\n",
        "for ele in enumerate(l1):\n",
        "    print (ele)\n",
        "```\n",
        "\n",
        "Output:\n",
        "\n",
        "```python\n",
        "(0, 'eat')\n",
        "(1, 'sleep')\n",
        "(2, 'repeat')\n",
        "```\n",
        "\n",
        "Exemplo:\n",
        "\n",
        "```python\n",
        "for count, ele in enumerate(l1):\n",
        "  print(count)\n",
        "  print(ele)\n",
        "```\n",
        "\n",
        "Output:\n",
        "\n",
        "```python  \n",
        "0\n",
        "eat\n",
        "1\n",
        "sleep\n",
        "2\n",
        "repeat\n",
        "```\n",
        "\n"
      ]
    },
    {
      "cell_type": "code",
      "execution_count": 168,
      "metadata": {
        "id": "DjC2NAPsLSKc"
      },
      "outputs": [
        {
          "name": "stdout",
          "output_type": "stream",
          "text": [
            "Done processing audios. Concatenating and writing to output file...\n",
            "End\n"
          ]
        }
      ],
      "source": [
        "print(\"Done processing audios. Concatenating and writing to output file...\")\n",
        "for idx, i in enumerate(result):\n",
        "    if i is None:\n",
        "        del result[idx]\n",
        "#pandas.concat(): concatena objetos pandas\n",
        "audios_means : pd.DataFrame = pd.concat(result)\n",
        "output_path : str = os.path.join(CSV_DIR, CSV_NAME)\n",
        "audios_means.to_csv(output_path, index = False)\n",
        "print(\"End\")"
      ]
    }
  ],
  "metadata": {
    "colab": {
      "collapsed_sections": [],
      "provenance": []
    },
    "kernelspec": {
      "display_name": "Python 3.10.4 ('audio')",
      "language": "python",
      "name": "python3"
    },
    "language_info": {
      "codemirror_mode": {
        "name": "ipython",
        "version": 3
      },
      "file_extension": ".py",
      "mimetype": "text/x-python",
      "name": "python",
      "nbconvert_exporter": "python",
      "pygments_lexer": "ipython3",
      "version": "3.10.4"
    },
    "vscode": {
      "interpreter": {
        "hash": "9edeedd609f8fdbfc6f180602c47252141619effe2f861290707d9f70d654b88"
      }
    }
  },
  "nbformat": 4,
  "nbformat_minor": 0
}
